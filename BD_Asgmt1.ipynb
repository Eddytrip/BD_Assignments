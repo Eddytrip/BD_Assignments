{
 "cells": [
  {
   "cell_type": "code",
   "execution_count": 21,
   "metadata": {},
   "outputs": [],
   "source": [
    "#Aditya Tripathi\n",
    "#202318046"
   ]
  },
  {
   "cell_type": "code",
   "execution_count": 22,
   "metadata": {},
   "outputs": [],
   "source": [
    "import re\n",
    "import csv\n",
    "import requests\n",
    "import numpy as np\n",
    "from bs4 import BeautifulSoup"
   ]
  },
  {
   "cell_type": "code",
   "execution_count": 5,
   "metadata": {},
   "outputs": [
    {
     "name": "stdout",
     "output_type": "stream",
     "text": [
      "A:\n",
      "[1 2 3 4 5 6]\n",
      "[ 7  8  9 10 11 12]\n",
      "[13 14 15 16 17 18]\n",
      "[19 20 21 22 23 24]\n",
      "[25 26 27 28 29 30]\n",
      "[31 32 33 34 35 36]\n",
      "\n",
      "B:\n",
      "[36 35 34 33 32 31]\n",
      "[30 29 28 27 26 25]\n",
      "[24 23 22 21 20 19]\n",
      "[18 17 16 15 14 13]\n",
      "[12 11 10  9  8  7]\n",
      "[6 5 4 3 2 1]\n",
      "\n",
      "Result:\n",
      "[336. 315. 294. 273. 252. 231.]\n",
      "[1092. 1035.  978.  921.  864.  807.]\n",
      "[1848. 1755. 1662. 1569. 1476. 1383.]\n",
      "[2604. 2475. 2346. 2217. 2088. 1959.]\n",
      "[3360. 3195. 3030. 2865. 2700. 2535.]\n",
      "[4116. 3915. 3714. 3513. 3312. 3111.]\n"
     ]
    }
   ],
   "source": [
    "#1st task\n",
    "def block_multi(A, B, block_size):\n",
    "    if len(A[0]) == len(B):\n",
    "        result = np.zeros((A.shape[0],B.shape[1]))\n",
    "        for i in range(0,A.shape[0],block_size):\n",
    "            for j in range(0,B.shape[1],block_size):\n",
    "                for k in range(0, A.shape[1],block_size):\n",
    "                    result[i:i+block_size,j:j+block_size]+=np.dot(A[i:i+block_size,k:k+block_size],B[k:k+block_size,j:j+block_size])\n",
    "        return result\n",
    "    else:\n",
    "       print(\"Matrix cannot be multiplied because of difference in sizes\")\n",
    "block_size = 4\n",
    "A = np.array([[1, 2, 3, 4, 5, 6], [7, 8, 9, 10, 11, 12], [13, 14, 15, 16, 17, 18], [19, 20, 21, 22, 23, 24], [25, 26, 27, 28, 29, 30], [31, 32, 33, 34, 35, 36]])\n",
    "B = np.array([[36, 35, 34, 33, 32, 31], [30, 29, 28, 27, 26, 25], [24, 23, 22, 21, 20, 19], [ 18, 17, 16, 15, 14, 13], [12, 11, 10, 9, 8, 7], [6, 5, 4, 3, 2, 1]])\n",
    "result = block_multi(A, B, block_size)\n",
    "print(\"A:\")\n",
    "for row in A:\n",
    "    print(row)\n",
    "print(\"\\nB:\")\n",
    "for row in B:\n",
    "    print(row)\n",
    "print(\"\\nResult:\")\n",
    "for row in result:\n",
    "    print(row)"
   ]
  },
  {
   "cell_type": "code",
   "execution_count": 19,
   "metadata": {},
   "outputs": [
    {
     "name": "stdout",
     "output_type": "stream",
     "text": [
      "new delhi\n",
      "{'coord': {'lon': 77.2311, 'lat': 28.6128}, 'weather': [{'id': 701, 'main': 'Mist', 'description': 'mist', 'icon': '50n'}], 'base': 'stations', 'main': {'temp': 57.27, 'feels_like': 57.4, 'temp_min': 57.18, 'temp_max': 57.36, 'pressure': 1015, 'humidity': 100}, 'visibility': 1100, 'wind': {'speed': 6.91, 'deg': 130}, 'clouds': {'all': 75}, 'dt': 1706721556, 'sys': {'type': 2, 'id': 145989, 'country': 'IN', 'sunrise': 1706665208, 'sunset': 1706704109}, 'timezone': 19800, 'id': 1261481, 'name': 'New Delhi', 'cod': 200}\n",
      "noida\n",
      "{'coord': {'lon': 77.33, 'lat': 28.58}, 'weather': [{'id': 500, 'main': 'Rain', 'description': 'light rain', 'icon': '10n'}], 'base': 'stations', 'main': {'temp': 57.4, 'feels_like': 56.41, 'temp_min': 57.33, 'temp_max': 57.49, 'pressure': 1015, 'humidity': 76, 'sea_level': 1015, 'grnd_level': 991}, 'visibility': 9486, 'wind': {'speed': 2.95, 'deg': 255, 'gust': 9.55}, 'rain': {'1h': 0.86}, 'clouds': {'all': 58}, 'dt': 1706721639, 'sys': {'type': 2, 'id': 145989, 'country': 'IN', 'sunrise': 1706665181, 'sunset': 1706704088}, 'timezone': 19800, 'id': 7279746, 'name': 'Noida', 'cod': 200}\n",
      "guwahati\n",
      "{'coord': {'lon': 91.751, 'lat': 26.1862}, 'weather': [{'id': 701, 'main': 'Mist', 'description': 'mist', 'icon': '50n'}], 'base': 'stations', 'main': {'temp': 62.51, 'feels_like': 62.89, 'temp_min': 62.51, 'temp_max': 62.51, 'pressure': 1017, 'humidity': 94}, 'visibility': 1800, 'wind': {'speed': 0, 'deg': 0}, 'clouds': {'all': 40}, 'dt': 1706721640, 'sys': {'type': 1, 'id': 9117, 'country': 'IN', 'sunrise': 1706661493, 'sunset': 1706700854}, 'timezone': 19800, 'id': 1271476, 'name': 'Guwahati', 'cod': 200}\n"
     ]
    }
   ],
   "source": [
    "#2nd task\n",
    "link = \"https://open-weather13.p.rapidapi.com/city/\"\n",
    "\n",
    "cities = [\"new delhi\", \"noida\", \"guwahati\"]\n",
    "\n",
    "headers = {\n",
    "\t\"X-RapidAPI-Key\": \"fdb1ff3c85mshdcb6213004beb5cp1e19a5jsndc8fc8fa74a3\",\n",
    "\t\"X-RapidAPI-Host\": \"open-weather13.p.rapidapi.com\"\n",
    "}\n",
    "\n",
    "for city in cities:\n",
    "    url = link + city\n",
    "    response = requests.get(url, headers=headers)\n",
    "    print(city)\n",
    "    print(response.json())"
   ]
  },
  {
   "cell_type": "code",
   "execution_count": 20,
   "metadata": {},
   "outputs": [],
   "source": [
    "#3rd task\n",
    "link = \"https://www.amazon.in/s?k=watch&page=\"\n",
    "\n",
    "for n in range(1, 30):\n",
    "    url = link + str(n)\n",
    "    response = requests.get(url)\n",
    "    data = []\n",
    "    if (response.status_code == 200):\n",
    "        soup = BeautifulSoup(response.content, \"html.parser\")\n",
    "        for product in soup.find_all(class_ = \"a-size-base-plus a-color-base a-text-normal\"):\n",
    "            product = product.text.strip()\n",
    "            company = product.split(sep= \" \", maxsplit=1)[0]\n",
    "            name = product.split(sep= \" \", maxsplit=1)[-1]\n",
    "            data.append([n, company, name])\n",
    "        with open(\"amazon_watch.csv\", \"a\", encoding = \"utf-8\") as csvfile:\n",
    "            csvwriter = csv.writer(csvfile)\n",
    "            csvwriter.writerows(data)"
   ]
  }
 ],
 "metadata": {
  "kernelspec": {
   "display_name": "Python 3",
   "language": "python",
   "name": "python3"
  },
  "language_info": {
   "codemirror_mode": {
    "name": "ipython",
    "version": 3
   },
   "file_extension": ".py",
   "mimetype": "text/x-python",
   "name": "python",
   "nbconvert_exporter": "python",
   "pygments_lexer": "ipython3",
   "version": "3.11.4"
  }
 },
 "nbformat": 4,
 "nbformat_minor": 2
}
